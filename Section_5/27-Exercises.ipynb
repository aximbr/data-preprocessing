{
 "cells": [
  {
   "cell_type": "markdown",
   "metadata": {},
   "source": [
    "# Exercise 1\n",
    "\n",
    "* Load **sample_dataset.csv** and select only the features: mean radius, area error, mean perimeter\n",
    "* Apply the following transformations using ColumnTransformer and Pipeline:\n",
    "    * Numerical features:\n",
    "        * Cleaning using the mean value\n",
    "        * Transformation using the Yeo-Johnson transformation\n",
    "    * Categorical features:\n",
    "        * Cleaning using the most probable value\n",
    "        * One-hot encoding with dense output"
   ]
  },
  {
   "cell_type": "code",
   "execution_count": null,
   "metadata": {},
   "outputs": [],
   "source": [
    "import pandas as pd\n",
    "\n",
    "from sklearn.compose import ColumnTransformer, make_column_selector\n",
    "from sklearn.pipeline import Pipeline\n",
    "from sklearn.impute import SimpleImputer\n",
    "from sklearn.preprocessing import PowerTransformer, OneHotEncoder\n"
   ]
  },
  {
   "cell_type": "code",
   "execution_count": null,
   "metadata": {},
   "outputs": [],
   "source": [
    "df = pd.read_csv(\"../sample_dataset.csv\").loc[:,['mean radius', 'area error', 'mean perimeter']]"
   ]
  },
  {
   "cell_type": "code",
   "execution_count": null,
   "metadata": {},
   "outputs": [],
   "source": [
    "numerical_pipeline = Pipeline([\n",
    "    ('cleaner', SimpleImputer(strategy = 'mean')),\n",
    "    ('power', PowerTransformer())\n",
    "])\n",
    "\n",
    "categorical_pipeline = Pipeline([\n",
    "    ('cleaner', SimpleImputer(strategy = 'most_frequent')),\n",
    "    ('encoder', OneHotEncoder(sparse_output=False))\n",
    "])\n",
    "\n",
    "transformer = ColumnTransformer([\n",
    "    ('numerical', numerical_pipeline, make_column_selector(dtype_exclude=\"object\")),\n",
    "    ('categorical', categorical_pipeline, make_column_selector(dtype_include=\"object\"))\n",
    "])"
   ]
  },
  {
   "cell_type": "code",
   "execution_count": null,
   "metadata": {},
   "outputs": [],
   "source": [
    "transformer.fit_transform(df)"
   ]
  },
  {
   "cell_type": "markdown",
   "metadata": {},
   "source": [
    "# Exercise 2\n",
    "\n",
    "* Modify the transformations of the previous exercise according to these settings and using set_params:\n",
    "    * Numerical features: change the cleaning value to the median value\n",
    "    * Categorical features: change the cleaning value to 'N' constant value"
   ]
  },
  {
   "cell_type": "code",
   "execution_count": null,
   "metadata": {},
   "outputs": [],
   "source": [
    "transformer.set_params(numerical__cleaner__strategy = 'median',\n",
    "                      categorical__cleaner__strategy = 'constant',\n",
    "                       categorical__cleaner__fill_value = 'N'\n",
    "                      )"
   ]
  },
  {
   "cell_type": "code",
   "execution_count": null,
   "metadata": {},
   "outputs": [],
   "source": [
    "transformer.fit_transform(df)"
   ]
  }
 ],
 "metadata": {
  "kernelspec": {
   "display_name": ".venv",
   "language": "python",
   "name": "python3"
  },
  "language_info": {
   "codemirror_mode": {
    "name": "ipython",
    "version": 3
   },
   "file_extension": ".py",
   "mimetype": "text/x-python",
   "name": "python",
   "nbconvert_exporter": "python",
   "pygments_lexer": "ipython3",
   "version": "3.11.5"
  }
 },
 "nbformat": 4,
 "nbformat_minor": 4
}

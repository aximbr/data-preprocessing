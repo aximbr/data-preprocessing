{
 "cells": [
  {
   "cell_type": "markdown",
   "metadata": {},
   "source": [
    "# Exercise 1\n",
    "\n",
    "* Load **sample_dataset.csv** and select only the features: mean radius, area error, mean perimeter\n",
    "* Apply the following transformations using ColumnTransformer and Pipeline:\n",
    "    * Numerical features:\n",
    "        * Cleaning using the mean value\n",
    "        * Transformation using the Yeo-Johnson transformation\n",
    "    * Categorical features:\n",
    "        * Cleaning using the most probable value\n",
    "        * One-hot encoding with dense output"
   ]
  },
  {
   "cell_type": "code",
   "execution_count": 23,
   "metadata": {},
   "outputs": [],
   "source": [
    "import pandas as pd\n",
    "\n",
    "from sklearn.compose import ColumnTransformer, make_column_selector\n",
    "from sklearn.pipeline import Pipeline\n",
    "from sklearn.impute import SimpleImputer\n",
    "from sklearn.preprocessing import PowerTransformer, OneHotEncoder\n"
   ]
  },
  {
   "cell_type": "code",
   "execution_count": 24,
   "metadata": {},
   "outputs": [],
   "source": [
    "df = pd.read_csv(\"sample_dataset.csv\").loc[:,['mean radius', 'area error', 'mean perimeter']]"
   ]
  },
  {
   "cell_type": "code",
   "execution_count": 25,
   "metadata": {},
   "outputs": [],
   "source": [
    "numerical_pipeline = Pipeline([\n",
    "    ('cleaner', SimpleImputer(strategy = 'mean')),\n",
    "    ('power', PowerTransformer())\n",
    "])\n",
    "\n",
    "categorical_pipeline = Pipeline([\n",
    "    ('cleaner', SimpleImputer(strategy = 'most_frequent')),\n",
    "    ('encoder', OneHotEncoder(sparse=False))\n",
    "])\n",
    "\n",
    "transformer = ColumnTransformer([\n",
    "    ('numerical', numerical_pipeline, make_column_selector(dtype_exclude=\"object\")),\n",
    "    ('categorical', categorical_pipeline, make_column_selector(dtype_include=\"object\"))\n",
    "])"
   ]
  },
  {
   "cell_type": "code",
   "execution_count": 26,
   "metadata": {},
   "outputs": [
    {
     "data": {
      "text/plain": [
       "array([[ 0.14898925,  1.31305907,  1.        ,  0.        ,  0.        ],\n",
       "       [ 1.77124867,  1.61013246,  1.        ,  0.        ,  0.        ],\n",
       "       [ 1.59585762,  1.52800056,  1.        ,  0.        ,  0.        ],\n",
       "       ...,\n",
       "       [ 0.88394456,  0.82431697,  1.        ,  0.        ,  0.        ],\n",
       "       [ 1.77704664,  1.80409019,  1.        ,  0.        ,  0.        ],\n",
       "       [-2.82849658, -2.89045254,  1.        ,  0.        ,  0.        ]])"
      ]
     },
     "execution_count": 26,
     "metadata": {},
     "output_type": "execute_result"
    }
   ],
   "source": [
    "transformer.fit_transform(df)"
   ]
  },
  {
   "cell_type": "markdown",
   "metadata": {},
   "source": [
    "# Exercise 2\n",
    "\n",
    "* Modify the transformations of the previous exercise according to these settings and using set_params:\n",
    "    * Numerical features: change the cleaning value to the median value\n",
    "    * Categorical features: change the cleaning value to 'N' constant value"
   ]
  },
  {
   "cell_type": "code",
   "execution_count": 27,
   "metadata": {},
   "outputs": [
    {
     "data": {
      "text/plain": [
       "ColumnTransformer(transformers=[('numerical',\n",
       "                                 Pipeline(steps=[('cleaner',\n",
       "                                                  SimpleImputer(strategy='median')),\n",
       "                                                 ('power',\n",
       "                                                  PowerTransformer())]),\n",
       "                                 <sklearn.compose._column_transformer.make_column_selector object at 0x1CA1C238>),\n",
       "                                ('categorical',\n",
       "                                 Pipeline(steps=[('cleaner',\n",
       "                                                  SimpleImputer(fill_value='N',\n",
       "                                                                strategy='constant')),\n",
       "                                                 ('encoder',\n",
       "                                                  OneHotEncoder(sparse=False))]),\n",
       "                                 <sklearn.compose._column_transformer.make_column_selector object at 0x1CA1C898>)])"
      ]
     },
     "execution_count": 27,
     "metadata": {},
     "output_type": "execute_result"
    }
   ],
   "source": [
    "transformer.set_params(numerical__cleaner__strategy = 'median',\n",
    "                      categorical__cleaner__strategy = 'constant',\n",
    "                       categorical__cleaner__fill_value = 'N'\n",
    "                      )"
   ]
  },
  {
   "cell_type": "code",
   "execution_count": 28,
   "metadata": {},
   "outputs": [
    {
     "data": {
      "text/plain": [
       "array([[-0.05595844,  1.33240916,  1.        ,  0.        ,  0.        ,\n",
       "         0.        ],\n",
       "       [ 1.77695743,  1.61842447,  1.        ,  0.        ,  0.        ,\n",
       "         0.        ],\n",
       "       [ 1.61194827,  1.53959676,  1.        ,  0.        ,  0.        ,\n",
       "         0.        ],\n",
       "       ...,\n",
       "       [ 0.93017209,  0.85656353,  1.        ,  0.        ,  0.        ,\n",
       "         0.        ],\n",
       "       [ 1.78239188,  1.80382232,  1.        ,  0.        ,  0.        ,\n",
       "         0.        ],\n",
       "       [-2.91245376, -2.95836499,  1.        ,  0.        ,  0.        ,\n",
       "         0.        ]])"
      ]
     },
     "execution_count": 28,
     "metadata": {},
     "output_type": "execute_result"
    }
   ],
   "source": [
    "transformer.fit_transform(df)"
   ]
  }
 ],
 "metadata": {
  "kernelspec": {
   "display_name": "Python 3",
   "language": "python",
   "name": "python3"
  },
  "language_info": {
   "codemirror_mode": {
    "name": "ipython",
    "version": 3
   },
   "file_extension": ".py",
   "mimetype": "text/x-python",
   "name": "python",
   "nbconvert_exporter": "python",
   "pygments_lexer": "ipython3",
   "version": "3.8.5"
  }
 },
 "nbformat": 4,
 "nbformat_minor": 4
}

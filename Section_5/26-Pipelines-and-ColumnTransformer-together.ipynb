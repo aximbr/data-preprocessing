{
 "cells": [
  {
   "cell_type": "code",
   "execution_count": 2,
   "metadata": {},
   "outputs": [],
   "source": [
    "import pandas as pd\n",
    "import numpy as np\n",
    "\n",
    "from sklearn.impute import SimpleImputer\n",
    "from sklearn.preprocessing import OneHotEncoder\n",
    "from sklearn.pipeline import Pipeline\n",
    "from sklearn.compose import ColumnTransformer, make_column_selector"
   ]
  },
  {
   "cell_type": "code",
   "execution_count": 3,
   "metadata": {},
   "outputs": [],
   "source": [
    "df = pd.read_csv(\"sample_dataset.csv\")"
   ]
  },
  {
   "cell_type": "code",
   "execution_count": 4,
   "metadata": {},
   "outputs": [],
   "source": [
    "cat_pipe = Pipeline([\n",
    "        ('cleaner',SimpleImputer(strategy=\"most_frequent\")),\n",
    "        ('encoder', OneHotEncoder(sparse=False))\n",
    "    ])\n",
    "\n",
    "transformer = ColumnTransformer([\n",
    "    ('numerical', SimpleImputer(strategy='median'), make_column_selector(dtype_exclude=\"object\")),\n",
    "    ('categorical', cat_pipe ,make_column_selector(dtype_include=\"object\"))\n",
    "])"
   ]
  },
  {
   "cell_type": "code",
   "execution_count": 5,
   "metadata": {},
   "outputs": [
    {
     "data": {
      "text/plain": [
       "array([[ 13.28,  10.38, 122.8 , ...,   1.  ,   0.  ,   0.  ],\n",
       "       [ 20.57,  17.77, 132.9 , ...,   1.  ,   0.  ,   0.  ],\n",
       "       [ 19.69,  21.25, 130.  , ...,   1.  ,   0.  ,   0.  ],\n",
       "       ...,\n",
       "       [ 16.6 ,  28.08, 108.3 , ...,   1.  ,   0.  ,   0.  ],\n",
       "       [ 20.6 ,  29.33, 140.1 , ...,   1.  ,   0.  ,   0.  ],\n",
       "       [  7.76,  18.86,  47.92, ...,   1.  ,   0.  ,   0.  ]])"
      ]
     },
     "execution_count": 5,
     "metadata": {},
     "output_type": "execute_result"
    }
   ],
   "source": [
    "transformer.fit_transform(df)"
   ]
  },
  {
   "cell_type": "code",
   "execution_count": 7,
   "metadata": {},
   "outputs": [
    {
     "data": {
      "text/plain": [
       "ColumnTransformer(transformers=[('numerical',\n",
       "                                 SimpleImputer(fill_value=0,\n",
       "                                               strategy='constant'),\n",
       "                                 <sklearn.compose._column_transformer.make_column_selector object at 0x1C5B68B0>),\n",
       "                                ('categorical',\n",
       "                                 Pipeline(steps=[('cleaner',\n",
       "                                                  SimpleImputer(strategy='most_frequent')),\n",
       "                                                 ('encoder',\n",
       "                                                  OneHotEncoder(sparse=False))]),\n",
       "                                 <sklearn.compose._column_transformer.make_column_selector object at 0x1C5B69B8>)])"
      ]
     },
     "execution_count": 7,
     "metadata": {},
     "output_type": "execute_result"
    }
   ],
   "source": [
    "transformer.set_params(numerical__strategy = 'constant', numerical__fill_value = 0)"
   ]
  },
  {
   "cell_type": "code",
   "execution_count": 8,
   "metadata": {},
   "outputs": [
    {
     "data": {
      "text/plain": [
       "ColumnTransformer(transformers=[('numerical',\n",
       "                                 SimpleImputer(fill_value=0,\n",
       "                                               strategy='constant'),\n",
       "                                 <sklearn.compose._column_transformer.make_column_selector object at 0x1C5B68B0>),\n",
       "                                ('categorical',\n",
       "                                 Pipeline(steps=[('cleaner',\n",
       "                                                  SimpleImputer(fill_value='N',\n",
       "                                                                strategy='constant')),\n",
       "                                                 ('encoder',\n",
       "                                                  OneHotEncoder(sparse=False))]),\n",
       "                                 <sklearn.compose._column_transformer.make_column_selector object at 0x1C5B69B8>)])"
      ]
     },
     "execution_count": 8,
     "metadata": {},
     "output_type": "execute_result"
    }
   ],
   "source": [
    "transformer.set_params(categorical__cleaner__strategy = 'constant', categorical__cleaner__fill_value = 'N')"
   ]
  },
  {
   "cell_type": "code",
   "execution_count": 9,
   "metadata": {},
   "outputs": [
    {
     "data": {
      "text/plain": [
       "array([[  0.  ,  10.38, 122.8 , ...,   0.  ,   0.  ,   0.  ],\n",
       "       [ 20.57,  17.77, 132.9 , ...,   0.  ,   0.  ,   0.  ],\n",
       "       [ 19.69,  21.25, 130.  , ...,   0.  ,   0.  ,   0.  ],\n",
       "       ...,\n",
       "       [ 16.6 ,  28.08, 108.3 , ...,   0.  ,   0.  ,   0.  ],\n",
       "       [ 20.6 ,  29.33, 140.1 , ...,   0.  ,   0.  ,   0.  ],\n",
       "       [  7.76,   0.  ,  47.92, ...,   0.  ,   0.  ,   0.  ]])"
      ]
     },
     "execution_count": 9,
     "metadata": {},
     "output_type": "execute_result"
    }
   ],
   "source": [
    "transformer.fit_transform(df)"
   ]
  }
 ],
 "metadata": {
  "kernelspec": {
   "display_name": "Python 3",
   "language": "python",
   "name": "python3"
  },
  "language_info": {
   "codemirror_mode": {
    "name": "ipython",
    "version": 3
   },
   "file_extension": ".py",
   "mimetype": "text/x-python",
   "name": "python",
   "nbconvert_exporter": "python",
   "pygments_lexer": "ipython3",
   "version": "3.8.5"
  }
 },
 "nbformat": 4,
 "nbformat_minor": 4
}

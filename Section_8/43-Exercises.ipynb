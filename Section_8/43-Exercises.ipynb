{
 "cells": [
  {
   "cell_type": "markdown",
   "metadata": {},
   "source": [
    "# Esercise 1\n",
    "\n",
    "* Load **sample_dataset.csv**. The first 10 columns are the features and the \"target\" column is the target\n",
    "* Create a pipeline with these transformations:\n",
    "    * Blank filling with median value\n",
    "    * Standardization\n",
    "    * Feature selection using ANOVA and selecting the 3 most important variables according to the given target"
   ]
  },
  {
   "cell_type": "code",
   "execution_count": 1,
   "metadata": {},
   "outputs": [],
   "source": [
    "import pandas as pd\n",
    "from sklearn.pipeline import Pipeline\n",
    "from sklearn.impute import SimpleImputer\n",
    "from sklearn.preprocessing import StandardScaler\n",
    "from sklearn.feature_selection import SelectKBest, f_classif"
   ]
  },
  {
   "cell_type": "code",
   "execution_count": 2,
   "metadata": {},
   "outputs": [],
   "source": [
    "df = pd.read_csv(\"sample_dataset.csv\")"
   ]
  },
  {
   "cell_type": "code",
   "execution_count": 3,
   "metadata": {},
   "outputs": [],
   "source": [
    "X = df.iloc[:,0:10]\n",
    "y = df['target']"
   ]
  },
  {
   "cell_type": "code",
   "execution_count": 4,
   "metadata": {},
   "outputs": [],
   "source": [
    "pipeline = Pipeline([\n",
    "    ('clenaer', SimpleImputer(strategy = 'median')),\n",
    "    ('scaler', StandardScaler()),\n",
    "    ('selector', SelectKBest(f_classif, k = 3))\n",
    "])"
   ]
  },
  {
   "cell_type": "code",
   "execution_count": 5,
   "metadata": {},
   "outputs": [
    {
     "data": {
      "text/plain": [
       "array([[-0.20432818,  1.37036991,  3.19191978],\n",
       "       [ 2.05135617,  1.81225729,  0.8085412 ],\n",
       "       [ 1.77906506,  1.68537874, -0.31917204],\n",
       "       ...,\n",
       "       [ 0.82295193,  0.73597713,  0.27721477],\n",
       "       [ 2.06063882,  2.12726612,  3.34372733],\n",
       "       [-1.91233609, -1.90572191, -1.36540491]])"
      ]
     },
     "execution_count": 5,
     "metadata": {},
     "output_type": "execute_result"
    }
   ],
   "source": [
    "pipeline.fit_transform(X,y)"
   ]
  },
  {
   "cell_type": "markdown",
   "metadata": {},
   "source": [
    "# Exercise 2\n",
    "\n",
    "* Load **sample_dataset.csv**. The columns from 2 to 11 are the features and the \"mean radius\" column is the target\n",
    "* Create a pipeline with these transformations:\n",
    "    * Blank filling with mean value\n",
    "    * Robust scaling\n",
    "    * Feature selection using the linear correlation coefficient and selecting the 3 most important variables according to the given target"
   ]
  },
  {
   "cell_type": "code",
   "execution_count": 6,
   "metadata": {},
   "outputs": [],
   "source": [
    "import pandas as pd\n",
    "\n",
    "from sklearn.pipeline import Pipeline\n",
    "from sklearn.impute import SimpleImputer\n",
    "from sklearn.preprocessing import RobustScaler\n",
    "from sklearn.feature_selection import SelectKBest, f_regression"
   ]
  },
  {
   "cell_type": "code",
   "execution_count": 7,
   "metadata": {},
   "outputs": [],
   "source": [
    "df = pd.read_csv(\"sample_dataset.csv\")"
   ]
  },
  {
   "cell_type": "code",
   "execution_count": 8,
   "metadata": {},
   "outputs": [],
   "source": [
    "X = df.iloc[:,1:11]\n",
    "y = df['mean radius']"
   ]
  },
  {
   "cell_type": "code",
   "execution_count": 9,
   "metadata": {},
   "outputs": [],
   "source": [
    "pipeline = Pipeline([\n",
    "    ('cleaner', SimpleImputer(strategy = 'mean')),\n",
    "    ('scaler', RobustScaler()),\n",
    "    ('selector', SelectKBest(f_regression, k = 3))\n",
    "])"
   ]
  },
  {
   "cell_type": "code",
   "execution_count": 15,
   "metadata": {},
   "outputs": [],
   "source": [
    "y = y.fillna(0)"
   ]
  },
  {
   "cell_type": "code",
   "execution_count": 16,
   "metadata": {},
   "outputs": [
    {
     "data": {
      "text/plain": [
       "array([[ 1.32431388,  1.75531241,  2.87120198],\n",
       "       [ 1.71472748,  3.43576742, -0.09981251],\n",
       "       [ 1.60262853,  2.79977983,  0.        ],\n",
       "       ...,\n",
       "       [ 0.7638191 ,  0.        ,  0.        ],\n",
       "       [ 1.99304213,  3.12035894,  3.58608492],\n",
       "       [-1.57015848, -2.48460486, -1.31079356]])"
      ]
     },
     "execution_count": 16,
     "metadata": {},
     "output_type": "execute_result"
    }
   ],
   "source": [
    "pipeline.fit_transform(X,y)"
   ]
  }
 ],
 "metadata": {
  "kernelspec": {
   "display_name": "Python 3",
   "language": "python",
   "name": "python3"
  },
  "language_info": {
   "codemirror_mode": {
    "name": "ipython",
    "version": 3
   },
   "file_extension": ".py",
   "mimetype": "text/x-python",
   "name": "python",
   "nbconvert_exporter": "python",
   "pygments_lexer": "ipython3",
   "version": "3.8.5"
  }
 },
 "nbformat": 4,
 "nbformat_minor": 4
}

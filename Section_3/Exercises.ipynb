{
 "cells": [
  {
   "cell_type": "markdown",
   "metadata": {},
   "source": [
    "# Exercise 1\n",
    "\n",
    "* Use the dataset\n",
    "\n",
    "```python\n",
    "X = [[\"X\",\"High\"],[\"Y\",\"Low\"],[\"Z\",\"Medium\"],[\"X\",\"Low\"]]\n",
    "```\n",
    "* Apply One-hot encoding to all variables\n",
    "* Apply One-hot encoding to the first column and ordinal encoding to the second column following the rank Low, Medium, High"
   ]
  },
  {
   "cell_type": "code",
   "execution_count": 1,
   "metadata": {},
   "outputs": [],
   "source": [
    "import numpy as np\n",
    "from sklearn.compose import ColumnTransformer\n",
    "from sklearn.preprocessing import OneHotEncoder, OrdinalEncoder"
   ]
  },
  {
   "cell_type": "code",
   "execution_count": 2,
   "metadata": {},
   "outputs": [],
   "source": [
    "X = [[\"X\",\"High\"],[\"Y\",\"Low\"],[\"Z\",\"Medium\"],[\"X\",\"Low\"]]"
   ]
  },
  {
   "cell_type": "code",
   "execution_count": 3,
   "metadata": {},
   "outputs": [
    {
     "data": {
      "text/plain": [
       "array([[1., 0., 0., 1., 0., 0.],\n",
       "       [0., 1., 0., 0., 1., 0.],\n",
       "       [0., 0., 1., 0., 0., 1.],\n",
       "       [1., 0., 0., 0., 1., 0.]])"
      ]
     },
     "execution_count": 3,
     "metadata": {},
     "output_type": "execute_result"
    }
   ],
   "source": [
    "encoder = ColumnTransformer([\n",
    "    ('onehotencoder',OneHotEncoder(),[0,1])\n",
    "])\n",
    "\n",
    "encoder.fit_transform(X)"
   ]
  },
  {
   "cell_type": "code",
   "execution_count": 7,
   "metadata": {},
   "outputs": [
    {
     "data": {
      "text/plain": [
       "array([[1., 0., 0., 2.],\n",
       "       [0., 1., 0., 0.],\n",
       "       [0., 0., 1., 1.],\n",
       "       [1., 0., 0., 0.]])"
      ]
     },
     "execution_count": 7,
     "metadata": {},
     "output_type": "execute_result"
    }
   ],
   "source": [
    "encoder = ColumnTransformer([\n",
    "    ('first_column', OneHotEncoder(), [0]),\n",
    "    ('second_column', OrdinalEncoder(categories = [[\"Low\",\"Medium\",\"High\"]]) ,[1])\n",
    "])\n",
    "\n",
    "encoder.fit_transform(X)"
   ]
  },
  {
   "cell_type": "markdown",
   "metadata": {},
   "source": [
    "# Exercise 2\n",
    "\n",
    "* Use the dataset\n",
    "\n",
    "```python\n",
    "X = [[\"X\",\"High\"],[\"Y\",\"Low\"],[\"Z\",\"Medium\"],[\"X\",\"Low\"]]\n",
    "```\n",
    "* Apply One-hot encoding to the first variable and ordinal encoding to the second variable. \n",
    "  * The first variable must be encoded considering this set of values: X, Y, Z, W. \n",
    "  * The second variable must be encoded considering this set of ranked values: Low, Medium, High, Very high\n",
    "* Consider the dataset:\n",
    "```python\n",
    "Y = [[\"W\",\"Very high\"]]\n",
    "```\n",
    "* Transform this dataset according to the fitted encoder"
   ]
  },
  {
   "cell_type": "code",
   "execution_count": 8,
   "metadata": {},
   "outputs": [],
   "source": [
    "import numpy as np\n",
    "from sklearn.compose import ColumnTransformer\n",
    "from sklearn.preprocessing import OneHotEncoder, OrdinalEncoder"
   ]
  },
  {
   "cell_type": "code",
   "execution_count": 9,
   "metadata": {},
   "outputs": [],
   "source": [
    "X = [[\"X\",\"High\"],[\"Y\",\"Low\"],[\"Z\",\"Medium\"],[\"X\",\"Low\"]]"
   ]
  },
  {
   "cell_type": "code",
   "execution_count": 11,
   "metadata": {},
   "outputs": [
    {
     "data": {
      "text/plain": [
       "array([[1., 0., 0., 0., 2.],\n",
       "       [0., 1., 0., 0., 0.],\n",
       "       [0., 0., 1., 0., 1.],\n",
       "       [1., 0., 0., 0., 0.]])"
      ]
     },
     "execution_count": 11,
     "metadata": {},
     "output_type": "execute_result"
    }
   ],
   "source": [
    "encoder = ColumnTransformer([\n",
    "    ('first_column',OneHotEncoder(categories=[[\"X\",\"Y\",\"Z\",\"W\"]]), [0]),\n",
    "    ('second_column', OrdinalEncoder(categories=[[\"Low\",\"Medium\",\"High\",\"Very high\"]]), [1])\n",
    "])\n",
    "\n",
    "encoder.fit_transform(X)"
   ]
  },
  {
   "cell_type": "code",
   "execution_count": 14,
   "metadata": {},
   "outputs": [],
   "source": [
    "Y = [[\"W\",\"Very high\"]]"
   ]
  },
  {
   "cell_type": "code",
   "execution_count": 15,
   "metadata": {},
   "outputs": [
    {
     "data": {
      "text/plain": [
       "array([[0., 0., 0., 1., 3.]])"
      ]
     },
     "execution_count": 15,
     "metadata": {},
     "output_type": "execute_result"
    }
   ],
   "source": [
    "encoder.transform(Y)"
   ]
  }
 ],
 "metadata": {
  "kernelspec": {
   "display_name": "Python 3",
   "language": "python",
   "name": "python3"
  },
  "language_info": {
   "codemirror_mode": {
    "name": "ipython",
    "version": 3
   },
   "file_extension": ".py",
   "mimetype": "text/x-python",
   "name": "python",
   "nbconvert_exporter": "python",
   "pygments_lexer": "ipython3",
   "version": "3.8.5"
  }
 },
 "nbformat": 4,
 "nbformat_minor": 4
}

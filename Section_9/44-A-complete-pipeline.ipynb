{
 "cells": [
  {
   "cell_type": "code",
   "execution_count": 1,
   "metadata": {},
   "outputs": [],
   "source": [
    "import pandas as pd"
   ]
  },
  {
   "cell_type": "code",
   "execution_count": 3,
   "metadata": {},
   "outputs": [],
   "source": [
    "from sklearn.pipeline import Pipeline, make_pipeline"
   ]
  },
  {
   "cell_type": "code",
   "execution_count": 4,
   "metadata": {},
   "outputs": [],
   "source": [
    "from sklearn.compose import ColumnTransformer, make_column_selector"
   ]
  },
  {
   "cell_type": "code",
   "execution_count": 5,
   "metadata": {},
   "outputs": [],
   "source": [
    "from sklearn.impute import SimpleImputer"
   ]
  },
  {
   "cell_type": "code",
   "execution_count": 6,
   "metadata": {},
   "outputs": [],
   "source": [
    "from sklearn.preprocessing import StandardScaler"
   ]
  },
  {
   "cell_type": "code",
   "execution_count": 7,
   "metadata": {},
   "outputs": [],
   "source": [
    "from sklearn.preprocessing import OneHotEncoder"
   ]
  },
  {
   "cell_type": "code",
   "execution_count": 8,
   "metadata": {},
   "outputs": [],
   "source": [
    "from sklearn.decomposition import PCA"
   ]
  },
  {
   "cell_type": "code",
   "execution_count": 9,
   "metadata": {},
   "outputs": [],
   "source": [
    "from sklearn.feature_selection import SelectKBest, f_classif"
   ]
  },
  {
   "cell_type": "code",
   "execution_count": 10,
   "metadata": {},
   "outputs": [],
   "source": [
    "df = pd.read_csv(\"sample_dataset.csv\")"
   ]
  },
  {
   "cell_type": "code",
   "execution_count": 12,
   "metadata": {},
   "outputs": [],
   "source": [
    "X = df.iloc[:,0:-1]\n",
    "y = df.iloc[:,-1]"
   ]
  },
  {
   "cell_type": "markdown",
   "metadata": {},
   "source": [
    "# Transformation of numerical and categorical columns\n",
    "\n",
    "**Numerical variables:**\n",
    "* Blank filling with median value\n",
    "* Standardization\n",
    "\n",
    "**Categorical variables**\n",
    "* Blank filling with most frequent value\n",
    "* One-hot encoding"
   ]
  },
  {
   "cell_type": "code",
   "execution_count": 15,
   "metadata": {},
   "outputs": [],
   "source": [
    "transformer = ColumnTransformer([\n",
    "    ('numerical', make_pipeline(SimpleImputer(strategy='median'), StandardScaler()), make_column_selector(dtype_exclude=\"object\")),\n",
    "    ('categorical', make_pipeline(SimpleImputer(strategy=\"most_frequent\"), OneHotEncoder(sparse=False)), make_column_selector(dtype_include=\"object\"))\n",
    "])"
   ]
  },
  {
   "cell_type": "markdown",
   "metadata": {},
   "source": [
    "# PCA"
   ]
  },
  {
   "cell_type": "code",
   "execution_count": 16,
   "metadata": {},
   "outputs": [],
   "source": [
    "pca = PCA(n_components = 10)"
   ]
  },
  {
   "cell_type": "markdown",
   "metadata": {},
   "source": [
    "# Feature selection"
   ]
  },
  {
   "cell_type": "code",
   "execution_count": 17,
   "metadata": {},
   "outputs": [],
   "source": [
    "selector = SelectKBest(f_classif, k = 5)"
   ]
  },
  {
   "cell_type": "markdown",
   "metadata": {},
   "source": [
    "# Pipeline"
   ]
  },
  {
   "cell_type": "code",
   "execution_count": 18,
   "metadata": {},
   "outputs": [],
   "source": [
    "pipeline = Pipeline([\n",
    "    ('transformation', transformer),\n",
    "    ('pca', pca),\n",
    "    ('feature_selection', selector)\n",
    "])"
   ]
  },
  {
   "cell_type": "code",
   "execution_count": 19,
   "metadata": {},
   "outputs": [
    {
     "data": {
      "text/plain": [
       "array([[ 8.52256693,  2.64397025, -1.57565929, -3.52420932, -2.60947471],\n",
       "       [ 2.7962396 , -3.89824876,  0.10428628, -1.61475964, -0.15809814],\n",
       "       [ 4.56985298, -1.18416339, -0.23153196, -0.95077724,  0.12671358],\n",
       "       ...,\n",
       "       [ 1.05053101, -2.22225349,  1.11959769,  2.06978343,  1.97774725],\n",
       "       [10.21620874,  0.39525183, -2.47260956,  1.09079088, -0.72399179],\n",
       "       [-5.32259519, -0.24553613,  1.22274009,  1.40540407,  0.49477953]])"
      ]
     },
     "execution_count": 19,
     "metadata": {},
     "output_type": "execute_result"
    }
   ],
   "source": [
    "pipeline.fit_transform(X,y)"
   ]
  },
  {
   "cell_type": "code",
   "execution_count": 20,
   "metadata": {},
   "outputs": [],
   "source": [
    "X1 = transformer.fit_transform(X)"
   ]
  },
  {
   "cell_type": "code",
   "execution_count": 21,
   "metadata": {},
   "outputs": [],
   "source": [
    "X2 = pca.fit_transform(X1)"
   ]
  },
  {
   "cell_type": "code",
   "execution_count": 22,
   "metadata": {},
   "outputs": [],
   "source": [
    "X3 = selector.fit_transform(X2,y)"
   ]
  },
  {
   "cell_type": "code",
   "execution_count": 23,
   "metadata": {},
   "outputs": [
    {
     "data": {
      "text/plain": [
       "array([[ 8.52256712,  2.64396851, -1.57561261, -3.52446951, -2.60845348],\n",
       "       [ 2.79623957, -3.8982489 ,  0.1042695 , -1.61475386, -0.15768526],\n",
       "       [ 4.56985322, -1.18416374, -0.23150433, -0.95100719,  0.12842975],\n",
       "       ...,\n",
       "       [ 1.05053102, -2.22225157,  1.11957651,  2.06979884,  1.97775598],\n",
       "       [10.21620891,  0.39525334, -2.47257087,  1.09064114, -0.72455767],\n",
       "       [-5.32259524, -0.24553994,  1.22278056,  1.40553737,  0.49408014]])"
      ]
     },
     "execution_count": 23,
     "metadata": {},
     "output_type": "execute_result"
    }
   ],
   "source": [
    "X3"
   ]
  },
  {
   "cell_type": "markdown",
   "metadata": {},
   "source": [
    "Change PCA components to 15 and feature selection variables to 3"
   ]
  },
  {
   "cell_type": "code",
   "execution_count": 24,
   "metadata": {},
   "outputs": [
    {
     "data": {
      "text/plain": [
       "Pipeline(steps=[('transformation',\n",
       "                 ColumnTransformer(transformers=[('numerical',\n",
       "                                                  Pipeline(steps=[('simpleimputer',\n",
       "                                                                   SimpleImputer(strategy='median')),\n",
       "                                                                  ('standardscaler',\n",
       "                                                                   StandardScaler())]),\n",
       "                                                  <sklearn.compose._column_transformer.make_column_selector object at 0x1CC94280>),\n",
       "                                                 ('categorical',\n",
       "                                                  Pipeline(steps=[('simpleimputer',\n",
       "                                                                   SimpleImputer(strategy='most_frequent')),\n",
       "                                                                  ('onehotencoder',\n",
       "                                                                   OneHotEncoder(sparse=False))]),\n",
       "                                                  <sklearn.compose._column_transformer.make_column_selector object at 0x1C82E718>)])),\n",
       "                ('pca', PCA(n_components=15)),\n",
       "                ('feature_selection', SelectKBest(k=3))])"
      ]
     },
     "execution_count": 24,
     "metadata": {},
     "output_type": "execute_result"
    }
   ],
   "source": [
    "pipeline.set_params(pca__n_components = 15, feature_selection__k = 3)"
   ]
  },
  {
   "cell_type": "code",
   "execution_count": 25,
   "metadata": {},
   "outputs": [
    {
     "data": {
      "text/plain": [
       "array([[ 8.52256695,  2.6439705 , -1.57565811],\n",
       "       [ 2.79623958, -3.89824778,  0.10426844],\n",
       "       [ 4.56985297, -1.18416163, -0.23154453],\n",
       "       ...,\n",
       "       [ 1.05053098, -2.22225238,  1.11958246],\n",
       "       [10.2162088 ,  0.39525014, -2.47257541],\n",
       "       [-5.32259514, -0.24553979,  1.22278872]])"
      ]
     },
     "execution_count": 25,
     "metadata": {},
     "output_type": "execute_result"
    }
   ],
   "source": [
    "pipeline.fit_transform(X,y)"
   ]
  },
  {
   "cell_type": "markdown",
   "metadata": {},
   "source": [
    "Change the numerical cleaning strategy to 'mean'"
   ]
  },
  {
   "cell_type": "code",
   "execution_count": 28,
   "metadata": {},
   "outputs": [
    {
     "data": {
      "text/plain": [
       "Pipeline(steps=[('transformation',\n",
       "                 ColumnTransformer(transformers=[('numerical',\n",
       "                                                  Pipeline(steps=[('simpleimputer',\n",
       "                                                                   SimpleImputer()),\n",
       "                                                                  ('standardscaler',\n",
       "                                                                   StandardScaler())]),\n",
       "                                                  <sklearn.compose._column_transformer.make_column_selector object at 0x1CC94280>),\n",
       "                                                 ('categorical',\n",
       "                                                  Pipeline(steps=[('simpleimputer',\n",
       "                                                                   SimpleImputer(strategy='most_frequent')),\n",
       "                                                                  ('onehotencoder',\n",
       "                                                                   OneHotEncoder(sparse=False))]),\n",
       "                                                  <sklearn.compose._column_transformer.make_column_selector object at 0x1C82E718>)])),\n",
       "                ('pca', PCA(n_components=15)),\n",
       "                ('feature_selection', SelectKBest(k=3))])"
      ]
     },
     "execution_count": 28,
     "metadata": {},
     "output_type": "execute_result"
    }
   ],
   "source": [
    "pipeline.set_params(transformation__numerical__simpleimputer__strategy = 'mean')"
   ]
  },
  {
   "cell_type": "code",
   "execution_count": 29,
   "metadata": {},
   "outputs": [
    {
     "data": {
      "text/plain": [
       "array([[ 8.53475992e+00,  2.61353433e+00, -1.49046227e+00],\n",
       "       [ 2.73326665e+00, -3.71106369e+00, -1.19848923e-03],\n",
       "       [ 4.63649132e+00, -1.19050135e+00, -2.87697660e-01],\n",
       "       ...,\n",
       "       [ 1.08873882e+00, -2.15395818e+00,  1.16642212e+00],\n",
       "       [ 1.01791411e+01,  5.24430864e-01, -2.43315954e+00],\n",
       "       [-5.31069498e+00, -2.64129075e-01,  1.39741301e+00]])"
      ]
     },
     "execution_count": 29,
     "metadata": {},
     "output_type": "execute_result"
    }
   ],
   "source": [
    "pipeline.fit_transform(X,y)"
   ]
  }
 ],
 "metadata": {
  "kernelspec": {
   "display_name": "Python 3",
   "language": "python",
   "name": "python3"
  },
  "language_info": {
   "codemirror_mode": {
    "name": "ipython",
    "version": 3
   },
   "file_extension": ".py",
   "mimetype": "text/x-python",
   "name": "python",
   "nbconvert_exporter": "python",
   "pygments_lexer": "ipython3",
   "version": "3.8.5"
  }
 },
 "nbformat": 4,
 "nbformat_minor": 4
}

{
 "cells": [
  {
   "cell_type": "code",
   "execution_count": 1,
   "metadata": {},
   "outputs": [],
   "source": [
    "import pandas as pd"
   ]
  },
  {
   "cell_type": "code",
   "execution_count": 2,
   "metadata": {},
   "outputs": [],
   "source": [
    "from sklearn.impute import SimpleImputer"
   ]
  },
  {
   "cell_type": "code",
   "execution_count": 3,
   "metadata": {},
   "outputs": [],
   "source": [
    "from sklearn.compose import ColumnTransformer, make_column_selector"
   ]
  },
  {
   "cell_type": "code",
   "execution_count": 14,
   "metadata": {},
   "outputs": [],
   "source": [
    "df = pd.read_csv(\"sample_dataset.csv\")"
   ]
  },
  {
   "cell_type": "code",
   "execution_count": 17,
   "metadata": {},
   "outputs": [
    {
     "data": {
      "text/html": [
       "<div>\n",
       "<style scoped>\n",
       "    .dataframe tbody tr th:only-of-type {\n",
       "        vertical-align: middle;\n",
       "    }\n",
       "\n",
       "    .dataframe tbody tr th {\n",
       "        vertical-align: top;\n",
       "    }\n",
       "\n",
       "    .dataframe thead th {\n",
       "        text-align: right;\n",
       "    }\n",
       "</style>\n",
       "<table border=\"1\" class=\"dataframe\">\n",
       "  <thead>\n",
       "    <tr style=\"text-align: right;\">\n",
       "      <th></th>\n",
       "      <th>0</th>\n",
       "      <th>1</th>\n",
       "      <th>2</th>\n",
       "      <th>3</th>\n",
       "      <th>4</th>\n",
       "    </tr>\n",
       "  </thead>\n",
       "  <tbody>\n",
       "    <tr>\n",
       "      <th>mean radius</th>\n",
       "      <td>NaN</td>\n",
       "      <td>20.57</td>\n",
       "      <td>19.69</td>\n",
       "      <td>11.42</td>\n",
       "      <td>20.29</td>\n",
       "    </tr>\n",
       "    <tr>\n",
       "      <th>mean texture</th>\n",
       "      <td>10.38</td>\n",
       "      <td>17.77</td>\n",
       "      <td>21.25</td>\n",
       "      <td>20.38</td>\n",
       "      <td>14.34</td>\n",
       "    </tr>\n",
       "    <tr>\n",
       "      <th>mean perimeter</th>\n",
       "      <td>122.8</td>\n",
       "      <td>132.9</td>\n",
       "      <td>130.0</td>\n",
       "      <td>77.58</td>\n",
       "      <td>NaN</td>\n",
       "    </tr>\n",
       "    <tr>\n",
       "      <th>mean area</th>\n",
       "      <td>1001.0</td>\n",
       "      <td>1326.0</td>\n",
       "      <td>1203.0</td>\n",
       "      <td>386.1</td>\n",
       "      <td>NaN</td>\n",
       "    </tr>\n",
       "    <tr>\n",
       "      <th>mean smoothness</th>\n",
       "      <td>0.1184</td>\n",
       "      <td>NaN</td>\n",
       "      <td>0.1096</td>\n",
       "      <td>0.1425</td>\n",
       "      <td>NaN</td>\n",
       "    </tr>\n",
       "    <tr>\n",
       "      <th>mean compactness</th>\n",
       "      <td>0.2776</td>\n",
       "      <td>NaN</td>\n",
       "      <td>0.1599</td>\n",
       "      <td>0.2839</td>\n",
       "      <td>0.1328</td>\n",
       "    </tr>\n",
       "    <tr>\n",
       "      <th>mean concavity</th>\n",
       "      <td>0.3001</td>\n",
       "      <td>0.0869</td>\n",
       "      <td>NaN</td>\n",
       "      <td>0.2414</td>\n",
       "      <td>0.198</td>\n",
       "    </tr>\n",
       "    <tr>\n",
       "      <th>mean concave points</th>\n",
       "      <td>0.1471</td>\n",
       "      <td>0.07017</td>\n",
       "      <td>NaN</td>\n",
       "      <td>NaN</td>\n",
       "      <td>NaN</td>\n",
       "    </tr>\n",
       "    <tr>\n",
       "      <th>mean symmetry</th>\n",
       "      <td>0.2419</td>\n",
       "      <td>NaN</td>\n",
       "      <td>NaN</td>\n",
       "      <td>0.2597</td>\n",
       "      <td>0.1809</td>\n",
       "    </tr>\n",
       "    <tr>\n",
       "      <th>mean fractal dimension</th>\n",
       "      <td>0.07871</td>\n",
       "      <td>0.05667</td>\n",
       "      <td>0.05999</td>\n",
       "      <td>0.09744</td>\n",
       "      <td>NaN</td>\n",
       "    </tr>\n",
       "    <tr>\n",
       "      <th>radius error</th>\n",
       "      <td>1.095</td>\n",
       "      <td>0.5435</td>\n",
       "      <td>0.7456</td>\n",
       "      <td>0.4956</td>\n",
       "      <td>0.7572</td>\n",
       "    </tr>\n",
       "    <tr>\n",
       "      <th>texture error</th>\n",
       "      <td>NaN</td>\n",
       "      <td>0.7339</td>\n",
       "      <td>0.7869</td>\n",
       "      <td>1.156</td>\n",
       "      <td>NaN</td>\n",
       "    </tr>\n",
       "    <tr>\n",
       "      <th>perimeter error</th>\n",
       "      <td>8.589</td>\n",
       "      <td>3.398</td>\n",
       "      <td>4.585</td>\n",
       "      <td>NaN</td>\n",
       "      <td>5.438</td>\n",
       "    </tr>\n",
       "    <tr>\n",
       "      <th>area error</th>\n",
       "      <td>A</td>\n",
       "      <td>A</td>\n",
       "      <td>A</td>\n",
       "      <td>A</td>\n",
       "      <td>NaN</td>\n",
       "    </tr>\n",
       "    <tr>\n",
       "      <th>smoothness error</th>\n",
       "      <td>0.006399</td>\n",
       "      <td>0.005225</td>\n",
       "      <td>0.00615</td>\n",
       "      <td>0.00911</td>\n",
       "      <td>NaN</td>\n",
       "    </tr>\n",
       "    <tr>\n",
       "      <th>compactness error</th>\n",
       "      <td>NaN</td>\n",
       "      <td>0.01308</td>\n",
       "      <td>0.04006</td>\n",
       "      <td>0.07458</td>\n",
       "      <td>0.02461</td>\n",
       "    </tr>\n",
       "    <tr>\n",
       "      <th>concavity error</th>\n",
       "      <td>NaN</td>\n",
       "      <td>NaN</td>\n",
       "      <td>0.03832</td>\n",
       "      <td>0.05661</td>\n",
       "      <td>0.05688</td>\n",
       "    </tr>\n",
       "    <tr>\n",
       "      <th>concave points error</th>\n",
       "      <td>0.01587</td>\n",
       "      <td>0.0134</td>\n",
       "      <td>0.02058</td>\n",
       "      <td>0.01867</td>\n",
       "      <td>0.01885</td>\n",
       "    </tr>\n",
       "    <tr>\n",
       "      <th>symmetry error</th>\n",
       "      <td>0.03003</td>\n",
       "      <td>NaN</td>\n",
       "      <td>NaN</td>\n",
       "      <td>0.05963</td>\n",
       "      <td>NaN</td>\n",
       "    </tr>\n",
       "    <tr>\n",
       "      <th>fractal dimension error</th>\n",
       "      <td>0.006193</td>\n",
       "      <td>0.003532</td>\n",
       "      <td>0.004571</td>\n",
       "      <td>0.009208</td>\n",
       "      <td>0.005115</td>\n",
       "    </tr>\n",
       "    <tr>\n",
       "      <th>worst radius</th>\n",
       "      <td>25.38</td>\n",
       "      <td>24.99</td>\n",
       "      <td>23.57</td>\n",
       "      <td>14.91</td>\n",
       "      <td>22.54</td>\n",
       "    </tr>\n",
       "    <tr>\n",
       "      <th>worst texture</th>\n",
       "      <td>17.33</td>\n",
       "      <td>23.41</td>\n",
       "      <td>25.53</td>\n",
       "      <td>26.5</td>\n",
       "      <td>16.67</td>\n",
       "    </tr>\n",
       "    <tr>\n",
       "      <th>worst perimeter</th>\n",
       "      <td>NaN</td>\n",
       "      <td>158.8</td>\n",
       "      <td>NaN</td>\n",
       "      <td>NaN</td>\n",
       "      <td>152.2</td>\n",
       "    </tr>\n",
       "    <tr>\n",
       "      <th>worst area</th>\n",
       "      <td>2019.0</td>\n",
       "      <td>1956.0</td>\n",
       "      <td>1709.0</td>\n",
       "      <td>567.7</td>\n",
       "      <td>1575.0</td>\n",
       "    </tr>\n",
       "    <tr>\n",
       "      <th>worst smoothness</th>\n",
       "      <td>0.1622</td>\n",
       "      <td>0.1238</td>\n",
       "      <td>0.1444</td>\n",
       "      <td>0.2098</td>\n",
       "      <td>0.1374</td>\n",
       "    </tr>\n",
       "    <tr>\n",
       "      <th>worst compactness</th>\n",
       "      <td>0.6656</td>\n",
       "      <td>0.1866</td>\n",
       "      <td>0.4245</td>\n",
       "      <td>0.8663</td>\n",
       "      <td>NaN</td>\n",
       "    </tr>\n",
       "    <tr>\n",
       "      <th>worst concavity</th>\n",
       "      <td>0.7119</td>\n",
       "      <td>0.2416</td>\n",
       "      <td>0.4504</td>\n",
       "      <td>0.6869</td>\n",
       "      <td>0.4</td>\n",
       "    </tr>\n",
       "    <tr>\n",
       "      <th>worst concave points</th>\n",
       "      <td>0.2654</td>\n",
       "      <td>0.186</td>\n",
       "      <td>0.243</td>\n",
       "      <td>0.2575</td>\n",
       "      <td>0.1625</td>\n",
       "    </tr>\n",
       "    <tr>\n",
       "      <th>worst symmetry</th>\n",
       "      <td>0.4601</td>\n",
       "      <td>0.275</td>\n",
       "      <td>0.3613</td>\n",
       "      <td>0.6638</td>\n",
       "      <td>0.2364</td>\n",
       "    </tr>\n",
       "    <tr>\n",
       "      <th>worst fractal dimension</th>\n",
       "      <td>0.1189</td>\n",
       "      <td>NaN</td>\n",
       "      <td>0.08758</td>\n",
       "      <td>0.173</td>\n",
       "      <td>0.07678</td>\n",
       "    </tr>\n",
       "    <tr>\n",
       "      <th>target</th>\n",
       "      <td>0</td>\n",
       "      <td>0</td>\n",
       "      <td>0</td>\n",
       "      <td>0</td>\n",
       "      <td>0</td>\n",
       "    </tr>\n",
       "  </tbody>\n",
       "</table>\n",
       "</div>"
      ],
      "text/plain": [
       "                                0         1         2         3         4\n",
       "mean radius                   NaN     20.57     19.69     11.42     20.29\n",
       "mean texture                10.38     17.77     21.25     20.38     14.34\n",
       "mean perimeter              122.8     132.9     130.0     77.58       NaN\n",
       "mean area                  1001.0    1326.0    1203.0     386.1       NaN\n",
       "mean smoothness            0.1184       NaN    0.1096    0.1425       NaN\n",
       "mean compactness           0.2776       NaN    0.1599    0.2839    0.1328\n",
       "mean concavity             0.3001    0.0869       NaN    0.2414     0.198\n",
       "mean concave points        0.1471   0.07017       NaN       NaN       NaN\n",
       "mean symmetry              0.2419       NaN       NaN    0.2597    0.1809\n",
       "mean fractal dimension    0.07871   0.05667   0.05999   0.09744       NaN\n",
       "radius error                1.095    0.5435    0.7456    0.4956    0.7572\n",
       "texture error                 NaN    0.7339    0.7869     1.156       NaN\n",
       "perimeter error             8.589     3.398     4.585       NaN     5.438\n",
       "area error                      A         A         A         A       NaN\n",
       "smoothness error         0.006399  0.005225   0.00615   0.00911       NaN\n",
       "compactness error             NaN   0.01308   0.04006   0.07458   0.02461\n",
       "concavity error               NaN       NaN   0.03832   0.05661   0.05688\n",
       "concave points error      0.01587    0.0134   0.02058   0.01867   0.01885\n",
       "symmetry error            0.03003       NaN       NaN   0.05963       NaN\n",
       "fractal dimension error  0.006193  0.003532  0.004571  0.009208  0.005115\n",
       "worst radius                25.38     24.99     23.57     14.91     22.54\n",
       "worst texture               17.33     23.41     25.53      26.5     16.67\n",
       "worst perimeter               NaN     158.8       NaN       NaN     152.2\n",
       "worst area                 2019.0    1956.0    1709.0     567.7    1575.0\n",
       "worst smoothness           0.1622    0.1238    0.1444    0.2098    0.1374\n",
       "worst compactness          0.6656    0.1866    0.4245    0.8663       NaN\n",
       "worst concavity            0.7119    0.2416    0.4504    0.6869       0.4\n",
       "worst concave points       0.2654     0.186     0.243    0.2575    0.1625\n",
       "worst symmetry             0.4601     0.275    0.3613    0.6638    0.2364\n",
       "worst fractal dimension    0.1189       NaN   0.08758     0.173   0.07678\n",
       "target                          0         0         0         0         0"
      ]
     },
     "execution_count": 17,
     "metadata": {},
     "output_type": "execute_result"
    }
   ],
   "source": [
    "df.head().T"
   ]
  },
  {
   "cell_type": "code",
   "execution_count": 20,
   "metadata": {},
   "outputs": [],
   "source": [
    "numerical = df.select_dtypes(exclude = \"object\").columns\n",
    "categorical = df.select_dtypes(include = \"object\").columns\n"
   ]
  },
  {
   "cell_type": "code",
   "execution_count": 21,
   "metadata": {},
   "outputs": [
    {
     "data": {
      "text/plain": [
       "Index(['mean radius', 'mean texture', 'mean perimeter', 'mean area',\n",
       "       'mean smoothness', 'mean compactness', 'mean concavity',\n",
       "       'mean concave points', 'mean symmetry', 'mean fractal dimension',\n",
       "       'radius error', 'texture error', 'perimeter error', 'smoothness error',\n",
       "       'compactness error', 'concavity error', 'concave points error',\n",
       "       'symmetry error', 'fractal dimension error', 'worst radius',\n",
       "       'worst texture', 'worst perimeter', 'worst area', 'worst smoothness',\n",
       "       'worst compactness', 'worst concavity', 'worst concave points',\n",
       "       'worst symmetry', 'worst fractal dimension', 'target'],\n",
       "      dtype='object')"
      ]
     },
     "execution_count": 21,
     "metadata": {},
     "output_type": "execute_result"
    }
   ],
   "source": [
    "numerical"
   ]
  },
  {
   "cell_type": "code",
   "execution_count": 22,
   "metadata": {},
   "outputs": [
    {
     "data": {
      "text/plain": [
       "Index(['area error'], dtype='object')"
      ]
     },
     "execution_count": 22,
     "metadata": {},
     "output_type": "execute_result"
    }
   ],
   "source": [
    "categorical"
   ]
  },
  {
   "cell_type": "markdown",
   "metadata": {},
   "source": [
    "# Using ColumnTransformer"
   ]
  },
  {
   "cell_type": "code",
   "execution_count": 23,
   "metadata": {},
   "outputs": [],
   "source": [
    "cleaner = ColumnTransformer([\n",
    "    ('numerical_transformer', SimpleImputer(strategy='mean'), numerical),\n",
    "    ('categorical_transformer', SimpleImputer(strategy='most_frequent'), categorical)\n",
    "])"
   ]
  },
  {
   "cell_type": "code",
   "execution_count": 24,
   "metadata": {},
   "outputs": [
    {
     "data": {
      "text/plain": [
       "array([[14.059547717842323, 10.38, 122.8, ..., 0.1189, 0.0, 'A'],\n",
       "       [20.57, 17.77, 132.9, ..., 0.08436317021276594, 0.0, 'A'],\n",
       "       [19.69, 21.25, 130.0, ..., 0.08758, 0.0, 'A'],\n",
       "       ...,\n",
       "       [16.6, 28.08, 108.3, ..., 0.0782, 0.0, 'A'],\n",
       "       [20.6, 29.33, 140.1, ..., 0.124, 0.0, 'A'],\n",
       "       [7.76, 19.311829268292684, 47.92, ..., 0.07039, 1.0, 'A']],\n",
       "      shape=(569, 31), dtype=object)"
      ]
     },
     "execution_count": 24,
     "metadata": {},
     "output_type": "execute_result"
    }
   ],
   "source": [
    "cleaner.fit_transform(df)"
   ]
  },
  {
   "cell_type": "code",
   "execution_count": 25,
   "metadata": {},
   "outputs": [
    {
     "data": {
      "text/plain": [
       "array([[14.059547717842323, 10.38, 122.8, 'A'],\n",
       "       [20.57, 17.77, 132.9, 'A'],\n",
       "       [19.69, 21.25, 130.0, 'A'],\n",
       "       ...,\n",
       "       [16.6, 28.08, 108.3, 'A'],\n",
       "       [20.6, 29.33, 140.1, 'A'],\n",
       "       [7.76, 19.311829268292684, 47.92, 'A']],\n",
       "      shape=(569, 4), dtype=object)"
      ]
     },
     "execution_count": 25,
     "metadata": {},
     "output_type": "execute_result"
    }
   ],
   "source": [
    "cleaner = ColumnTransformer([\n",
    "    ('numerical_transformer', SimpleImputer(strategy='mean'), [0,1,2]),\n",
    "    ('categorical_transformer', SimpleImputer(strategy='most_frequent'), categorical)\n",
    "])\n",
    "\n",
    "cleaner.fit_transform(df)"
   ]
  },
  {
   "cell_type": "code",
   "execution_count": 26,
   "metadata": {},
   "outputs": [
    {
     "data": {
      "text/plain": [
       "array([[14.059547717842323, 10.38, 122.8, 'A'],\n",
       "       [20.57, 17.77, 132.9, 'A'],\n",
       "       [19.69, 21.25, 130.0, 'A'],\n",
       "       ...,\n",
       "       [16.6, 28.08, 108.3, 'A'],\n",
       "       [20.6, 29.33, 140.1, 'A'],\n",
       "       [7.76, 19.311829268292684, 47.92, 'A']],\n",
       "      shape=(569, 4), dtype=object)"
      ]
     },
     "execution_count": 26,
     "metadata": {},
     "output_type": "execute_result"
    }
   ],
   "source": [
    "cleaner = ColumnTransformer([\n",
    "    ('numerical_transformer', SimpleImputer(strategy='mean'), [0,1,2]),\n",
    "    ('categorical_transformer', SimpleImputer(strategy='most_frequent'), categorical)\n",
    "] , remainder='drop')\n",
    "\n",
    "cleaner.fit_transform(df)"
   ]
  },
  {
   "cell_type": "markdown",
   "metadata": {},
   "source": [
    "# make_column_selector"
   ]
  },
  {
   "cell_type": "code",
   "execution_count": 27,
   "metadata": {},
   "outputs": [
    {
     "data": {
      "text/plain": [
       "array([[14.059547717842323, 10.38, 122.8, ..., 0.1189, 0.0, 'A'],\n",
       "       [20.57, 17.77, 132.9, ..., 0.08436317021276594, 0.0, 'A'],\n",
       "       [19.69, 21.25, 130.0, ..., 0.08758, 0.0, 'A'],\n",
       "       ...,\n",
       "       [16.6, 28.08, 108.3, ..., 0.0782, 0.0, 'A'],\n",
       "       [20.6, 29.33, 140.1, ..., 0.124, 0.0, 'A'],\n",
       "       [7.76, 19.311829268292684, 47.92, ..., 0.07039, 1.0, 'A']],\n",
       "      shape=(569, 31), dtype=object)"
      ]
     },
     "execution_count": 27,
     "metadata": {},
     "output_type": "execute_result"
    }
   ],
   "source": [
    "cleaner = ColumnTransformer([\n",
    "    ('numerical_transformer', SimpleImputer(strategy='mean'), make_column_selector(dtype_exclude=\"object\")),\n",
    "    ('categorical_transformer', SimpleImputer(strategy='most_frequent'),  make_column_selector(dtype_include=\"object\"))\n",
    "] , remainder='drop')\n",
    "\n",
    "cleaner.fit_transform(df)"
   ]
  }
 ],
 "metadata": {
  "kernelspec": {
   "display_name": ".venv",
   "language": "python",
   "name": "python3"
  },
  "language_info": {
   "codemirror_mode": {
    "name": "ipython",
    "version": 3
   },
   "file_extension": ".py",
   "mimetype": "text/x-python",
   "name": "python",
   "nbconvert_exporter": "python",
   "pygments_lexer": "ipython3",
   "version": "3.11.5"
  }
 },
 "nbformat": 4,
 "nbformat_minor": 4
}

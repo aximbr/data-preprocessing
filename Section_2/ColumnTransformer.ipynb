{
 "cells": [
  {
   "cell_type": "code",
   "execution_count": 1,
   "metadata": {},
   "outputs": [],
   "source": [
    "import pandas as pd"
   ]
  },
  {
   "cell_type": "code",
   "execution_count": 2,
   "metadata": {},
   "outputs": [],
   "source": [
    "from sklearn.impute import SimpleImputer"
   ]
  },
  {
   "cell_type": "code",
   "execution_count": 3,
   "metadata": {},
   "outputs": [],
   "source": [
    "from sklearn.compose import ColumnTransformer, make_column_selector"
   ]
  },
  {
   "cell_type": "code",
   "execution_count": 4,
   "metadata": {},
   "outputs": [],
   "source": [
    "df = pd.read_csv(\"sample_dataset.csv\")"
   ]
  },
  {
   "cell_type": "code",
   "execution_count": 5,
   "metadata": {},
   "outputs": [],
   "source": [
    "numerical = df.select_dtypes(exclude = \"object\").columns\n",
    "categorical = df.select_dtypes(include = \"object\").columns\n"
   ]
  },
  {
   "cell_type": "code",
   "execution_count": 7,
   "metadata": {},
   "outputs": [
    {
     "data": {
      "text/plain": [
       "array(['area error'], dtype=object)"
      ]
     },
     "execution_count": 7,
     "metadata": {},
     "output_type": "execute_result"
    }
   ],
   "source": [
    "test = df.select_dtypes(include='object').columns.values\n",
    "test"
   ]
  },
  {
   "cell_type": "code",
   "execution_count": 7,
   "metadata": {},
   "outputs": [
    {
     "data": {
      "text/plain": [
       "Index(['mean radius', 'mean texture', 'mean perimeter', 'mean area',\n",
       "       'mean smoothness', 'mean compactness', 'mean concavity',\n",
       "       'mean concave points', 'mean symmetry', 'mean fractal dimension',\n",
       "       'radius error', 'texture error', 'perimeter error', 'smoothness error',\n",
       "       'compactness error', 'concavity error', 'concave points error',\n",
       "       'symmetry error', 'fractal dimension error', 'worst radius',\n",
       "       'worst texture', 'worst perimeter', 'worst area', 'worst smoothness',\n",
       "       'worst compactness', 'worst concavity', 'worst concave points',\n",
       "       'worst symmetry', 'worst fractal dimension', 'target'],\n",
       "      dtype='object')"
      ]
     },
     "execution_count": 7,
     "metadata": {},
     "output_type": "execute_result"
    }
   ],
   "source": [
    "numerical"
   ]
  },
  {
   "cell_type": "code",
   "execution_count": 8,
   "metadata": {},
   "outputs": [
    {
     "data": {
      "text/plain": [
       "Index(['area error'], dtype='object')"
      ]
     },
     "execution_count": 8,
     "metadata": {},
     "output_type": "execute_result"
    }
   ],
   "source": [
    "categorical"
   ]
  },
  {
   "cell_type": "markdown",
   "metadata": {},
   "source": [
    "# Using ColumnTransformer"
   ]
  },
  {
   "cell_type": "code",
   "execution_count": 9,
   "metadata": {},
   "outputs": [],
   "source": [
    "cleaner = ColumnTransformer([\n",
    "    ('numerical_transformer', SimpleImputer(strategy='mean'), numerical),\n",
    "    ('categorical_transformer', SimpleImputer(strategy='most_frequent'), categorical)\n",
    "])"
   ]
  },
  {
   "cell_type": "code",
   "execution_count": 10,
   "metadata": {},
   "outputs": [
    {
     "data": {
      "text/plain": [
       "array([[14.059547717842323, 10.38, 122.8, ..., 0.1189, 0.0, 'A'],\n",
       "       [20.57, 17.77, 132.9, ..., 0.08436317021276594, 0.0, 'A'],\n",
       "       [19.69, 21.25, 130.0, ..., 0.08757999999999999, 0.0, 'A'],\n",
       "       ...,\n",
       "       [16.6, 28.08, 108.3, ..., 0.0782, 0.0, 'A'],\n",
       "       [20.6, 29.33, 140.1, ..., 0.124, 0.0, 'A'],\n",
       "       [7.76, 19.311829268292684, 47.92, ..., 0.07039, 1.0, 'A']],\n",
       "      dtype=object)"
      ]
     },
     "execution_count": 10,
     "metadata": {},
     "output_type": "execute_result"
    }
   ],
   "source": [
    "cleaner.fit_transform(df)"
   ]
  },
  {
   "cell_type": "code",
   "execution_count": 11,
   "metadata": {},
   "outputs": [
    {
     "data": {
      "text/plain": [
       "array([[14.059547717842323, 10.38, 122.8, 'A'],\n",
       "       [20.57, 17.77, 132.9, 'A'],\n",
       "       [19.69, 21.25, 130.0, 'A'],\n",
       "       ...,\n",
       "       [16.6, 28.08, 108.3, 'A'],\n",
       "       [20.6, 29.33, 140.1, 'A'],\n",
       "       [7.76, 19.311829268292684, 47.92, 'A']], dtype=object)"
      ]
     },
     "execution_count": 11,
     "metadata": {},
     "output_type": "execute_result"
    }
   ],
   "source": [
    "cleaner = ColumnTransformer([\n",
    "    ('numerical_transformer', SimpleImputer(strategy='mean'), [0,1,2]),\n",
    "    ('categorical_transformer', SimpleImputer(strategy='most_frequent'), categorical)\n",
    "])\n",
    "\n",
    "cleaner.fit_transform(df)"
   ]
  },
  {
   "cell_type": "code",
   "execution_count": 13,
   "metadata": {},
   "outputs": [
    {
     "data": {
      "text/plain": [
       "array([[14.059547717842323, 10.38, 122.8, 'A'],\n",
       "       [20.57, 17.77, 132.9, 'A'],\n",
       "       [19.69, 21.25, 130.0, 'A'],\n",
       "       ...,\n",
       "       [16.6, 28.08, 108.3, 'A'],\n",
       "       [20.6, 29.33, 140.1, 'A'],\n",
       "       [7.76, 19.311829268292684, 47.92, 'A']], dtype=object)"
      ]
     },
     "execution_count": 13,
     "metadata": {},
     "output_type": "execute_result"
    }
   ],
   "source": [
    "cleaner = ColumnTransformer([\n",
    "    ('numerical_transformer', SimpleImputer(strategy='mean'), [0,1,2]),\n",
    "    ('categorical_transformer', SimpleImputer(strategy='most_frequent'), categorical)\n",
    "] , remainder='drop')\n",
    "\n",
    "cleaner.fit_transform(df)"
   ]
  },
  {
   "cell_type": "markdown",
   "metadata": {},
   "source": [
    "# make_column_selector"
   ]
  },
  {
   "cell_type": "code",
   "execution_count": 19,
   "metadata": {},
   "outputs": [
    {
     "data": {
      "text/plain": [
       "array([[14.059547717842323, 10.38, 122.8, ..., 0.1189, 0.0, 'A'],\n",
       "       [20.57, 17.77, 132.9, ..., 0.08436317021276594, 0.0, 'A'],\n",
       "       [19.69, 21.25, 130.0, ..., 0.08757999999999999, 0.0, 'A'],\n",
       "       ...,\n",
       "       [16.6, 28.08, 108.3, ..., 0.0782, 0.0, 'A'],\n",
       "       [20.6, 29.33, 140.1, ..., 0.124, 0.0, 'A'],\n",
       "       [7.76, 19.311829268292684, 47.92, ..., 0.07039, 1.0, 'A']],\n",
       "      dtype=object)"
      ]
     },
     "execution_count": 19,
     "metadata": {},
     "output_type": "execute_result"
    }
   ],
   "source": [
    "cleaner = ColumnTransformer([\n",
    "    ('numerical_transformer', SimpleImputer(strategy='mean'), make_column_selector(dtype_exclude=\"object\")),\n",
    "    ('categorical_transformer', SimpleImputer(strategy='most_frequent'),  make_column_selector(dtype_include=\"object\"))\n",
    "] , remainder='drop')\n",
    "\n",
    "cleaner.fit_transform(df)"
   ]
  }
 ],
 "metadata": {
  "kernelspec": {
   "display_name": ".venv",
   "language": "python",
   "name": "python3"
  },
  "language_info": {
   "codemirror_mode": {
    "name": "ipython",
    "version": 3
   },
   "file_extension": ".py",
   "mimetype": "text/x-python",
   "name": "python",
   "nbconvert_exporter": "python",
   "pygments_lexer": "ipython3",
   "version": "3.11.5"
  }
 },
 "nbformat": 4,
 "nbformat_minor": 4
}

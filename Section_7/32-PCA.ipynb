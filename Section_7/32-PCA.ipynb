{
 "cells": [
  {
   "cell_type": "code",
   "execution_count": 133,
   "metadata": {},
   "outputs": [],
   "source": [
    "import numpy as np\n",
    "import pandas as pd\n",
    "import matplotlib.pyplot as plt\n",
    "from sklearn.decomposition import PCA"
   ]
  },
  {
   "cell_type": "code",
   "execution_count": 111,
   "metadata": {},
   "outputs": [],
   "source": [
    "df = pd.read_csv(\"sample_dataset.csv\")"
   ]
  },
  {
   "cell_type": "code",
   "execution_count": 112,
   "metadata": {},
   "outputs": [],
   "source": [
    "X = df.iloc[:,0:10].dropna()"
   ]
  },
  {
   "cell_type": "code",
   "execution_count": 126,
   "metadata": {},
   "outputs": [],
   "source": [
    "pca = PCA()"
   ]
  },
  {
   "cell_type": "code",
   "execution_count": 127,
   "metadata": {},
   "outputs": [],
   "source": [
    "X_red = pca.fit_transform(X)"
   ]
  },
  {
   "cell_type": "code",
   "execution_count": 128,
   "metadata": {},
   "outputs": [
    {
     "data": {
      "text/plain": [
       "(52, 10)"
      ]
     },
     "execution_count": 128,
     "metadata": {},
     "output_type": "execute_result"
    }
   ],
   "source": [
    "X_red.shape"
   ]
  },
  {
   "cell_type": "code",
   "execution_count": 118,
   "metadata": {},
   "outputs": [
    {
     "data": {
      "text/plain": [
       "(52, 10)"
      ]
     },
     "execution_count": 118,
     "metadata": {},
     "output_type": "execute_result"
    }
   ],
   "source": [
    "X.shape"
   ]
  },
  {
   "cell_type": "code",
   "execution_count": 129,
   "metadata": {},
   "outputs": [
    {
     "data": {
      "text/plain": [
       "array([7.98463163e+04, 2.49031975e+01, 7.99790892e+00, 3.79405556e-02,\n",
       "       7.33765283e-04, 3.72706427e-04, 1.74612977e-04, 4.69185901e-05,\n",
       "       2.97413518e-05, 5.62152446e-06])"
      ]
     },
     "execution_count": 129,
     "metadata": {},
     "output_type": "execute_result"
    }
   ],
   "source": [
    "pca.explained_variance_"
   ]
  },
  {
   "cell_type": "code",
   "execution_count": 130,
   "metadata": {},
   "outputs": [
    {
     "data": {
      "text/plain": [
       "array([9.99587622e-01, 3.11760506e-04, 1.00124979e-04, 4.74973818e-07,\n",
       "       9.18593028e-09, 4.66587250e-09, 2.18596146e-09, 5.87368887e-10,\n",
       "       3.72328850e-10, 7.03752725e-11])"
      ]
     },
     "execution_count": 130,
     "metadata": {},
     "output_type": "execute_result"
    }
   ],
   "source": [
    "pca.explained_variance_ratio_"
   ]
  },
  {
   "cell_type": "code",
   "execution_count": 122,
   "metadata": {},
   "outputs": [
    {
     "data": {
      "text/plain": [
       "array([[ 1.        ,  0.49386814,  0.99681085,  0.99301378,  0.26706277,\n",
       "         0.46196167,  0.63691435,  0.75985477, -0.01481293, -0.23556723],\n",
       "       [ 0.49386814,  1.        ,  0.49406668,  0.465288  ,  0.11278681,\n",
       "         0.28744438,  0.35567013,  0.4042626 , -0.03639332, -0.13566868],\n",
       "       [ 0.99681085,  0.49406668,  1.        ,  0.98919315,  0.31381632,\n",
       "         0.52814199,  0.69154801,  0.80209557,  0.03479034, -0.16722692],\n",
       "       [ 0.99301378,  0.465288  ,  0.98919315,  1.        ,  0.25020064,\n",
       "         0.43715108,  0.63263287,  0.75573845, -0.00664448, -0.23751042],\n",
       "       [ 0.26706277,  0.11278681,  0.31381632,  0.25020064,  1.        ,\n",
       "         0.74291312,  0.65323166,  0.68590597,  0.42452769,  0.56331745],\n",
       "       [ 0.46196167,  0.28744438,  0.52814199,  0.43715108,  0.74291312,\n",
       "         1.        ,  0.91295593,  0.86732402,  0.579872  ,  0.66494664],\n",
       "       [ 0.63691435,  0.35567013,  0.69154801,  0.63263287,  0.65323166,\n",
       "         0.91295593,  1.        ,  0.94387461,  0.49984207,  0.47653617],\n",
       "       [ 0.75985477,  0.4042626 ,  0.80209557,  0.75573845,  0.68590597,\n",
       "         0.86732402,  0.94387461,  1.        ,  0.45237107,  0.33936279],\n",
       "       [-0.01481293, -0.03639332,  0.03479034, -0.00664448,  0.42452769,\n",
       "         0.579872  ,  0.49984207,  0.45237107,  1.        ,  0.56785314],\n",
       "       [-0.23556723, -0.13566868, -0.16722692, -0.23751042,  0.56331745,\n",
       "         0.66494664,  0.47653617,  0.33936279,  0.56785314,  1.        ]])"
      ]
     },
     "execution_count": 122,
     "metadata": {},
     "output_type": "execute_result"
    }
   ],
   "source": [
    "np.corrcoef(X,rowvar=False)"
   ]
  },
  {
   "cell_type": "markdown",
   "metadata": {},
   "source": [
    "# Dimensionality reduction"
   ]
  },
  {
   "cell_type": "code",
   "execution_count": 119,
   "metadata": {},
   "outputs": [],
   "source": [
    "pca = PCA(n_components = 5)"
   ]
  },
  {
   "cell_type": "code",
   "execution_count": 120,
   "metadata": {},
   "outputs": [],
   "source": [
    "X_red = pca.fit_transform(X)"
   ]
  },
  {
   "cell_type": "code",
   "execution_count": 121,
   "metadata": {},
   "outputs": [
    {
     "data": {
      "text/plain": [
       "(52, 5)"
      ]
     },
     "execution_count": 121,
     "metadata": {},
     "output_type": "execute_result"
    }
   ],
   "source": [
    "X_red.shape"
   ]
  },
  {
   "cell_type": "code",
   "execution_count": 123,
   "metadata": {},
   "outputs": [
    {
     "data": {
      "text/plain": [
       "array([[ 1.00000000e+00, -3.79399063e-17,  7.67544781e-17,\n",
       "         1.35740063e-16,  4.55044651e-17],\n",
       "       [-3.79399063e-17,  1.00000000e+00,  1.38207713e-16,\n",
       "        -3.98639801e-16,  1.61040058e-17],\n",
       "       [ 7.67544781e-17,  1.38207713e-16,  1.00000000e+00,\n",
       "        -1.31645861e-16,  9.59062751e-17],\n",
       "       [ 1.35740063e-16, -3.98639801e-16, -1.31645861e-16,\n",
       "         1.00000000e+00,  7.73590099e-17],\n",
       "       [ 4.55044651e-17,  1.61040058e-17,  9.59062751e-17,\n",
       "         7.73590099e-17,  1.00000000e+00]])"
      ]
     },
     "execution_count": 123,
     "metadata": {},
     "output_type": "execute_result"
    }
   ],
   "source": [
    "np.corrcoef(X_red,rowvar=False)"
   ]
  },
  {
   "cell_type": "markdown",
   "metadata": {},
   "source": [
    "# Dimensionality reduction by variance filter"
   ]
  },
  {
   "cell_type": "code",
   "execution_count": 131,
   "metadata": {},
   "outputs": [],
   "source": [
    "pca = PCA(n_components = 9.99687622e-01)\n",
    "X_red = pca.fit_transform(X)"
   ]
  },
  {
   "cell_type": "code",
   "execution_count": 132,
   "metadata": {},
   "outputs": [
    {
     "data": {
      "text/plain": [
       "array([[-1.16757946e+02,  4.69739560e+00],\n",
       "       [ 6.24593316e+02, -3.94331819e+00],\n",
       "       [-1.16746358e+02, -1.67729742e+00],\n",
       "       [-3.64065042e+02, -4.47309656e+00],\n",
       "       [-7.74016070e+01,  2.93853779e+00],\n",
       "       [-9.14486227e+01,  2.51753569e+00],\n",
       "       [-1.09747498e+02,  9.47142423e-01],\n",
       "       [-3.77102428e+02, -3.03062345e+00],\n",
       "       [-1.37830233e+02,  6.08134952e+00],\n",
       "       [-5.24652284e+01, -2.11518921e+00],\n",
       "       [-1.06461825e+02, -1.72011481e+00],\n",
       "       [ 3.83668798e+01, -1.70520178e+00],\n",
       "       [ 4.39366131e+02, -1.73903862e+00],\n",
       "       [-2.04992648e+02, -1.42390766e-01],\n",
       "       [-1.88621482e+02, -4.78701520e+00],\n",
       "       [-2.79996954e+02, -7.29632457e+00],\n",
       "       [-3.20306078e+02, -2.18911771e+00],\n",
       "       [ 8.03022531e+01, -2.68080642e+00],\n",
       "       [ 3.12317039e+02,  3.71753101e+00],\n",
       "       [ 2.85036325e+02,  1.75105003e+01],\n",
       "       [-2.29920125e+02,  9.86721005e-01],\n",
       "       [ 2.92383810e+02, -4.37227188e+00],\n",
       "       [ 4.66331107e+02, -4.13498214e+00],\n",
       "       [-2.10042047e+02, -3.60326059e+00],\n",
       "       [-1.44868164e+02, -3.73499922e+00],\n",
       "       [-2.73861456e+02, -4.79642070e+00],\n",
       "       [ 5.81638186e+02, -6.12901417e+00],\n",
       "       [-1.65656484e+02,  2.42215498e+00],\n",
       "       [-2.02021123e+01, -5.85579492e+00],\n",
       "       [-1.72729282e+02,  1.16290227e+00],\n",
       "       [-1.22556030e+02, -3.32915643e+00],\n",
       "       [ 1.22813261e+02,  6.42979144e-01],\n",
       "       [-5.76348552e+01, -2.31216775e+00],\n",
       "       [-7.46205339e+01,  9.47610082e+00],\n",
       "       [-3.16099835e+02, -4.64343399e+00],\n",
       "       [ 7.72250969e+02, -4.21756144e+00],\n",
       "       [-7.85373421e+01,  1.02145652e+00],\n",
       "       [-2.67431900e+02,  1.39948686e+00],\n",
       "       [-2.77589677e+02,  4.58381262e+00],\n",
       "       [ 4.90724300e+01,  4.57108629e+00],\n",
       "       [ 3.46053822e+02,  5.91336329e+00],\n",
       "       [-7.94536005e+01,  1.21434706e+01],\n",
       "       [ 2.95038278e+02,  4.93446746e+00],\n",
       "       [ 3.45033184e+02,  1.75567139e+00],\n",
       "       [-1.60130418e+02, -5.45824178e-01],\n",
       "       [-1.59850407e+02, -4.96475656e+00],\n",
       "       [-2.11185328e+02, -2.44380989e+00],\n",
       "       [ 4.41823227e+01, -4.64343341e+00],\n",
       "       [-7.98815300e+01,  2.76345149e+00],\n",
       "       [-8.55676888e+01,  9.11184765e-01],\n",
       "       [ 6.73017767e+02, -4.61444212e+00],\n",
       "       [-3.60343150e+01,  8.74256226e+00]])"
      ]
     },
     "execution_count": 132,
     "metadata": {},
     "output_type": "execute_result"
    }
   ],
   "source": [
    "X_red"
   ]
  },
  {
   "cell_type": "markdown",
   "metadata": {},
   "source": [
    "# Selecting the best number of components"
   ]
  },
  {
   "cell_type": "code",
   "execution_count": 134,
   "metadata": {},
   "outputs": [
    {
     "data": {
      "text/plain": [
       "PCA()"
      ]
     },
     "execution_count": 134,
     "metadata": {},
     "output_type": "execute_result"
    }
   ],
   "source": [
    "pca = PCA()\n",
    "\n",
    "pca.fit(X)"
   ]
  },
  {
   "cell_type": "code",
   "execution_count": 135,
   "metadata": {},
   "outputs": [],
   "source": [
    "x = range(1,len(pca.explained_variance_ratio_)+1)\n",
    "y = pca.explained_variance_ratio_"
   ]
  },
  {
   "cell_type": "code",
   "execution_count": 137,
   "metadata": {},
   "outputs": [
    {
     "data": {
      "image/png": "[encoded data removed]",
      "text/plain": [
       "<Figure size 432x288 with 1 Axes>"
      ]
     },
     "metadata": {
      "needs_background": "light"
     },
     "output_type": "display_data"
    }
   ],
   "source": [
    "plt.bar(x,y)\n",
    "plt.yscale(\"log\")"
   ]
  }
 ],
 "metadata": {
  "kernelspec": {
   "display_name": "Python 3",
   "language": "python",
   "name": "python3"
  },
  "language_info": {
   "codemirror_mode": {
    "name": "ipython",
    "version": 3
   },
   "file_extension": ".py",
   "mimetype": "text/x-python",
   "name": "python",
   "nbconvert_exporter": "python",
   "pygments_lexer": "ipython3",
   "version": "3.8.5"
  }
 },
 "nbformat": 4,
 "nbformat_minor": 4
}

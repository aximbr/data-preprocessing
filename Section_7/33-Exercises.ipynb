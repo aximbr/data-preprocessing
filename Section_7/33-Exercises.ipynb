{
 "cells": [
  {
   "cell_type": "markdown",
   "metadata": {},
   "source": [
    "# Exercise\n",
    "\n",
    "* Load **diabetes** dataset\n",
    "* Apply PCA and search for the optimal number of components graphically\n",
    "* Apply PCA taking the 80% of the variance"
   ]
  },
  {
   "cell_type": "code",
   "execution_count": 25,
   "metadata": {},
   "outputs": [],
   "source": [
    "from sklearn.datasets import load_diabetes\n",
    "\n",
    "from sklearn.decomposition import PCA\n",
    "\n",
    "import matplotlib.pyplot as plt"
   ]
  },
  {
   "cell_type": "code",
   "execution_count": 27,
   "metadata": {},
   "outputs": [],
   "source": [
    "X = load_diabetes()['data']"
   ]
  },
  {
   "cell_type": "code",
   "execution_count": 29,
   "metadata": {},
   "outputs": [
    {
     "data": {
      "text/plain": [
       "(442, 10)"
      ]
     },
     "execution_count": 29,
     "metadata": {},
     "output_type": "execute_result"
    }
   ],
   "source": [
    "X.shape"
   ]
  },
  {
   "cell_type": "code",
   "execution_count": 30,
   "metadata": {},
   "outputs": [
    {
     "data": {
      "text/plain": [
       "PCA()"
      ]
     },
     "execution_count": 30,
     "metadata": {},
     "output_type": "execute_result"
    }
   ],
   "source": [
    "pca = PCA()\n",
    "\n",
    "pca.fit(X)"
   ]
  },
  {
   "cell_type": "code",
   "execution_count": 31,
   "metadata": {},
   "outputs": [],
   "source": [
    "n = len(pca.explained_variance_ratio_)"
   ]
  },
  {
   "cell_type": "code",
   "execution_count": 32,
   "metadata": {},
   "outputs": [
    {
     "data": {
      "text/plain": [
       "<BarContainer object of 10 artists>"
      ]
     },
     "execution_count": 32,
     "metadata": {},
     "output_type": "execute_result"
    },
    {
     "data": {
      "image/png": "[encoded data removed]",
      "text/plain": [
       "<Figure size 432x288 with 1 Axes>"
      ]
     },
     "metadata": {
      "needs_background": "light"
     },
     "output_type": "display_data"
    }
   ],
   "source": [
    "x = range(1,n + 1)\n",
    "y = pca.explained_variance_ratio_\n",
    "\n",
    "plt.bar(x,y)"
   ]
  },
  {
   "cell_type": "code",
   "execution_count": 33,
   "metadata": {},
   "outputs": [
    {
     "data": {
      "text/plain": [
       "PCA(n_components=8)"
      ]
     },
     "execution_count": 33,
     "metadata": {},
     "output_type": "execute_result"
    }
   ],
   "source": [
    "pca.set_params(n_components = 8)"
   ]
  },
  {
   "cell_type": "code",
   "execution_count": 34,
   "metadata": {},
   "outputs": [
    {
     "data": {
      "text/plain": [
       "array([[ 0.02793062, -0.09260116,  0.02802696, ..., -0.04809855,\n",
       "        -0.00855256,  0.03602797],\n",
       "       [-0.13468605,  0.06526341,  0.00132778, ..., -0.04818421,\n",
       "         0.01067428, -0.00896163],\n",
       "       [ 0.01294474, -0.07776417,  0.0351635 , ..., -0.05293076,\n",
       "        -0.02199441,  0.0401086 ],\n",
       "       ...,\n",
       "       [-0.00976257, -0.05733724,  0.02359604, ..., -0.00215418,\n",
       "        -0.03022531, -0.02338733],\n",
       "       [ 0.03295629,  0.00999424, -0.04132126, ..., -0.02648904,\n",
       "         0.02595642,  0.00374222],\n",
       "       [-0.09056089,  0.18910814, -0.00230125, ...,  0.07834495,\n",
       "         0.01166606,  0.05638256]])"
      ]
     },
     "execution_count": 34,
     "metadata": {},
     "output_type": "execute_result"
    }
   ],
   "source": [
    "pca.fit_transform(X)"
   ]
  },
  {
   "cell_type": "code",
   "execution_count": 35,
   "metadata": {},
   "outputs": [
    {
     "data": {
      "text/plain": [
       "array([[ 0.02793062, -0.09260116,  0.02802696, -0.00393895, -0.01220663],\n",
       "       [-0.13468605,  0.06526341,  0.00132778, -0.02235559, -0.00681271],\n",
       "       [ 0.01294474, -0.07776417,  0.0351635 , -0.03764663, -0.05535734],\n",
       "       ...,\n",
       "       [-0.00976257, -0.05733724,  0.02359604, -0.06437226, -0.00673933],\n",
       "       [ 0.03295629,  0.00999424, -0.04132126,  0.07690284,  0.00569113],\n",
       "       [-0.09056089,  0.18910814, -0.00230125, -0.01049342,  0.02853071]])"
      ]
     },
     "execution_count": 35,
     "metadata": {},
     "output_type": "execute_result"
    }
   ],
   "source": [
    "pca = PCA(n_components = 0.8)\n",
    "\n",
    "pca.fit_transform(X)"
   ]
  }
 ],
 "metadata": {
  "kernelspec": {
   "display_name": "Python 3",
   "language": "python",
   "name": "python3"
  },
  "language_info": {
   "codemirror_mode": {
    "name": "ipython",
    "version": 3
   },
   "file_extension": ".py",
   "mimetype": "text/x-python",
   "name": "python",
   "nbconvert_exporter": "python",
   "pygments_lexer": "ipython3",
   "version": "3.8.5"
  }
 },
 "nbformat": 4,
 "nbformat_minor": 4
}

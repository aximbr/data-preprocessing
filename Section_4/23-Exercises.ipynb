{
 "cells": [
  {
   "cell_type": "markdown",
   "metadata": {},
   "source": [
    "# Esercise 1\n",
    "\n",
    "* Load **sample_dataset.csv**\n",
    "* Consider only the first 3 columns and remove all the records that have missings\n",
    "* Calculate the mean value of \"mean radius\"\n",
    "* Use a ColumnTransformer to apply the following transformations:\n",
    "    * Binarize \"mean radius\" using a threshold equal to the mean value\n",
    "    * Binning of \"mean texture\" with 10 uniform bins and one-hot encoded dense output\n",
    "    * Binning of \"mean perimeter\" with 5 quantile bins and ordinal encoding output"
   ]
  },
  {
   "cell_type": "code",
   "execution_count": null,
   "metadata": {},
   "outputs": [],
   "source": [
    "import pandas as pd\n",
    "\n",
    "from sklearn.compose import ColumnTransformer\n",
    "from sklearn.preprocessing import KBinsDiscretizer, Binarizer"
   ]
  },
  {
   "cell_type": "code",
   "execution_count": null,
   "metadata": {},
   "outputs": [],
   "source": [
    "df = pd.read_csv(\"../sample_dataset.csv\").iloc[:,0:3].dropna()"
   ]
  },
  {
   "cell_type": "code",
   "execution_count": null,
   "metadata": {},
   "outputs": [],
   "source": [
    "df"
   ]
  },
  {
   "cell_type": "code",
   "execution_count": null,
   "metadata": {},
   "outputs": [],
   "source": [
    "m = df['mean radius'].mean()"
   ]
  },
  {
   "cell_type": "code",
   "execution_count": null,
   "metadata": {},
   "outputs": [],
   "source": [
    "m"
   ]
  },
  {
   "cell_type": "code",
   "execution_count": null,
   "metadata": {},
   "outputs": [],
   "source": [
    "transformer = ColumnTransformer([\n",
    "    ('mean_radius_transformer',Binarizer(threshold=m), ['mean radius']),\n",
    "    ('mean_texture_transformer', KBinsDiscretizer(strategy=\"uniform\", n_bins = 10, encode = 'onehot-dense'), ['mean texture']),\n",
    "    ('mean_perimeter_transformer', KBinsDiscretizer(strategy = 'quantile', n_bins = 5, encode = 'ordinal'),['mean perimeter'])\n",
    "])"
   ]
  },
  {
   "cell_type": "code",
   "execution_count": null,
   "metadata": {},
   "outputs": [],
   "source": [
    "transformer.fit_transform(df)"
   ]
  },
  {
   "cell_type": "markdown",
   "metadata": {},
   "source": [
    "# Esercise 2\n",
    "\n",
    "* Load **sample_dataset.csv**\n",
    "* Consider only the first 3 columns and remove all the records that have missings\n",
    "* Use a ColumnTransformer to apply the following transformations:\n",
    "    * Yeo-Johnson power transform of \"mean radius\"\n",
    "    * Box-Cox transformation of \"mean texture\"\n",
    "    * Calculate the logarithm of \"mean perimeter\""
   ]
  },
  {
   "cell_type": "code",
   "execution_count": null,
   "metadata": {},
   "outputs": [],
   "source": [
    "import pandas as pd\n",
    "import numpy as np\n",
    "from sklearn.compose import ColumnTransformer\n",
    "from sklearn.preprocessing import PowerTransformer, FunctionTransformer"
   ]
  },
  {
   "cell_type": "code",
   "execution_count": null,
   "metadata": {},
   "outputs": [],
   "source": [
    "df = pd.read_csv(\"sample_dataset.csv\").iloc[:,0:3].dropna()"
   ]
  },
  {
   "cell_type": "code",
   "execution_count": null,
   "metadata": {},
   "outputs": [],
   "source": [
    "transformer = ColumnTransformer([\n",
    "    ('mean_radius_transformer',PowerTransformer(), ['mean radius']),\n",
    "    ('mean_texture_transformer', PowerTransformer('box-cox'), ['mean texture']),\n",
    "    ('mean_perimeter_transformer', FunctionTransformer(np.log), ['mean perimeter'])\n",
    "])"
   ]
  },
  {
   "cell_type": "code",
   "execution_count": null,
   "metadata": {},
   "outputs": [],
   "source": [
    "transformer.fit_transform(df)"
   ]
  }
 ],
 "metadata": {
  "kernelspec": {
   "display_name": "Python 3",
   "language": "python",
   "name": "python3"
  },
  "language_info": {
   "codemirror_mode": {
    "name": "ipython",
    "version": 3
   },
   "file_extension": ".py",
   "mimetype": "text/x-python",
   "name": "python",
   "nbconvert_exporter": "python",
   "pygments_lexer": "ipython3",
   "version": "3.8.5"
  }
 },
 "nbformat": 4,
 "nbformat_minor": 4
}
